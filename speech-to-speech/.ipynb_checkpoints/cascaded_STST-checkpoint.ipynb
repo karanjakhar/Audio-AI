{
 "cells": [
  {
   "cell_type": "markdown",
   "id": "b5a081bd-ed59-45c8-82c8-0794d7c92aed",
   "metadata": {},
   "source": [
    "# Speech to speech translation"
   ]
  },
  {
   "cell_type": "code",
   "execution_count": null,
   "id": "f8562c59-98b4-45f6-beaa-f6a1626c70b4",
   "metadata": {},
   "outputs": [],
   "source": []
  }
 ],
 "metadata": {
  "kernelspec": {
   "display_name": "Python 3 (ipykernel)",
   "language": "python",
   "name": "python3"
  },
  "language_info": {
   "codemirror_mode": {
    "name": "ipython",
    "version": 3
   },
   "file_extension": ".py",
   "mimetype": "text/x-python",
   "name": "python",
   "nbconvert_exporter": "python",
   "pygments_lexer": "ipython3",
   "version": "3.10.12"
  }
 },
 "nbformat": 4,
 "nbformat_minor": 5
}
